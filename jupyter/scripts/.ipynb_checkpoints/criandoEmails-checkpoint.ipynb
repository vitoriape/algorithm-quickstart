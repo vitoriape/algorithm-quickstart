{
 "cells": [
  {
   "cell_type": "code",
   "execution_count": null,
   "id": "2faa3177-80e5-4597-b679-e35d4e185d6b",
   "metadata": {},
   "outputs": [],
   "source": [
    "import win32com.client as win32"
   ]
  },
  {
   "cell_type": "code",
   "execution_count": null,
   "id": "fe891e99-21bd-4b17-9ad7-ef3d0906bb13",
   "metadata": {},
   "outputs": [],
   "source": [
    "criar_email = win32.Dispatch('outlook.application')\n",
    "email_outlook = criar_email.createItem(0)\n",
    "\n",
    "destinatario = \"exemplo@outlook.com\" \n",
    "nomeDestinatario = \"Fulano\"\n",
    "\n",
    "email_outlook.To = destinatario#Destinatário\n",
    "email_outlook.Subject = \"Primeiro e-mail usando Python\"#Assunto\n",
    "\n",
    "#Corpo do e-mail\n",
    "#Atribuindo f antes de \"\"\" permite o uso de variáveis\n",
    "\n",
    "email_outlook.HTMLBody = f\"\"\"\n",
    "<p>Texto, <b>texto em negrito</b>.</p>\n",
    "<p>Texto, {nomeDestinatario}. <font color=\"red\"><b><u>Texto colorido negrito tachado</b></u></font></p>\n",
    "<p><a href=\"https://www.google.com.br/\">Link</a></p>\n",
    "<p><img scr=\"C:\\\\Nome da Pasta\\\\arquivo.png\">Imagem</p>\n",
    "<p>Att,</p>\n",
    "<p>PythonUser.</p>\n",
    "\"\"\"\n",
    "\n",
    "email_outlook.save()#Salvar o e-mail como Rascunho\n",
    "email_outlook.Send()#Enviar e-mail"
   ]
  }
 ],
 "metadata": {
  "kernelspec": {
   "display_name": "Python 3 (ipykernel)",
   "language": "python",
   "name": "python3"
  },
  "language_info": {
   "codemirror_mode": {
    "name": "ipython",
    "version": 3
   },
   "file_extension": ".py",
   "mimetype": "text/x-python",
   "name": "python",
   "nbconvert_exporter": "python",
   "pygments_lexer": "ipython3",
   "version": "3.9.7"
  }
 },
 "nbformat": 4,
 "nbformat_minor": 5
}
