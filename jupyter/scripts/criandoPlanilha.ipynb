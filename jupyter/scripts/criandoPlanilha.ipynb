{
 "cells": [
  {
   "cell_type": "code",
   "execution_count": null,
   "id": "f8e4641f",
   "metadata": {},
   "outputs": [],
   "source": [
    "import xlsxwriter\n",
    "import os\n",
    "\n",
    "caminhoArquivo = 'C:\\\\Users\\\\PC\\\\CaminhoPasta\\\\NomeArquivo.xlsx'#Determina o caminho da planilha\n",
    "planilhaCriada = xlsxwriter.Workbook(caminhoArquivo)#Define a planilha criada como ConsProc e atribui à ela a biblioteca xlsxwriter\n",
    "sheet1 = planilhaCriada.add_worksheet()#Cria uma planilha em branco com o nome Sheet1 que receberá os dados minerados pelo bot\n",
    "\n",
    "sheet1.write(\"A1\", \"Nome\")\n",
    "sheet1.write(\"B1\", \"Idade\")\n",
    "\n",
    "sheet1.write(\"A2\", \"Fulano\")\n",
    "sheet1.write(\"B2\", 28)\n",
    "\n",
    "sheet1.write(\"A3\", \"Ciclano\")\n",
    "\n",
    "planilhaCriada.close()#Fecha o arquivo\n",
    "os.startfile(caminhoArquivo)#Abre o arquivo para visualização"
   ]
  }
 ],
 "metadata": {
  "kernelspec": {
   "display_name": "Python 3 (ipykernel)",
   "language": "python",
   "name": "python3"
  },
  "language_info": {
   "codemirror_mode": {
    "name": "ipython",
    "version": 3
   },
   "file_extension": ".py",
   "mimetype": "text/x-python",
   "name": "python",
   "nbconvert_exporter": "python",
   "pygments_lexer": "ipython3",
   "version": "3.9.7"
  }
 },
 "nbformat": 4,
 "nbformat_minor": 5
}
