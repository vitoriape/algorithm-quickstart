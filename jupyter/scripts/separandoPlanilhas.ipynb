{
 "cells": [
  {
   "cell_type": "code",
   "execution_count": null,
   "id": "e14c4ae0-903d-4c1f-b377-533260125e24",
   "metadata": {},
   "outputs": [],
   "source": [
    "from openpyxl import load_workbook\n",
    "from openpyxl import Workbook\n",
    "\n",
    "from openpyxl.styles import Color, PatternFill, Font, Border, Side\n",
    "from openpyxl.styles import colors\n",
    "from openpxl.cell import Cell\n",
    "\n",
    "import os"
   ]
  },
  {
   "cell_type": "code",
   "execution_count": null,
   "id": "d1b2a6d8-41c8-4156-9d08-467a24211e71",
   "metadata": {},
   "outputs": [],
   "source": [
    "#Configurações gráficas\n",
    "#----------------------\n",
    "\n",
    "celulaAmarela = PatternFill(start_color='00FFFFCC',\n",
    "                               end_color='00FFFFCC',\n",
    "                               fill_type='solid')\n",
    "\n",
    "bordaFinaPreta = Side(border_style=\"thin\", color=\"000000\")\n",
    "bordasPlanilha = Border(left=bordaFinaPreta, \n",
    "                        right=bordaFinaPreta,\n",
    "                        top=bordaFinaPreta,\n",
    "                        bottom=bordaFinaPreta)"
   ]
  },
  {
   "cell_type": "code",
   "execution_count": null,
   "id": "65ae1d6f-4575-469a-9730-418eeefeed81",
   "metadata": {},
   "outputs": [],
   "source": [
    "#Caminhos de arquivo & variáveis chave\n",
    "#-------------------------------------\n",
    "\n",
    "caminho_arquivo = \"C:\\\\Users\\\\PC\\\\Downloads\\\\algorithm-quickstart\\\\jupyter\\\\scripts\\\\Planilha.xlsx\"#Determina o caminho do arquivo\n",
    "planilha = load_workbook(filename=caminho_arquivo)#Abre o arquivo\n",
    "guia_selecionada = planilha['Guia']#Determina guia_selecionada como a guia Guia da planilha\n",
    "\n",
    "criar_novo_arquivo = Workbook()\n",
    "nome_novo = \"\""
   ]
  },
  {
   "cell_type": "code",
   "execution_count": null,
   "id": "6ed0dfb1-4094-487b-9261-2ff9fb0c0f0d",
   "metadata": {
    "tags": []
   },
   "outputs": [],
   "source": [
    "total_linhas = len(guia_selecionada['A']) + 1#Retorna o total de linhas com conteúdo\n",
    "\n",
    "for linha in range(2, len(guia_selecionada['A']) + 1):#Cria um loop a partir da segunda linha até a última com conteúdo\n",
    "    \n",
    "    nome_atual = guia_selecionada['A%s' % linha].value#Armazena o valor indexado da linha atual a cada loop\n",
    "    \n",
    "    if nome_novo == nome_atual:\n",
    "        \n",
    "        linha_guia_quebra = len(selecionar_nova_planilha['A']) + 1#Obtém a quantidade de linhas\n",
    "        celula_colunaA = \"A\" + str(linha_guia_quebra)#Concatena o valor da linha (1, 2, etc) com A formando A1, A2, etc\n",
    "        celula_colunaB = \"B\" + str(linha_guia_quebra)#Concatena o valor da linha (1, 2, etc) com B formando B1, B2, etc\n",
    "        celula_colunaC = \"C\" + str(linha_guia_quebra)#Concatena o valor da linha (1, 2, etc) com C formando C1, C2, etc\n",
    "        \n",
    "        selecionar_nova_planilha[celula_colunaA] = guia_selecionada['A%s' % linha].value#Indexa os dados da coluna A da guia original\n",
    "        selecionar_nova_planilha[celula_colunaB] = guia_selecionada['B%s' % linha].value#Indexa os dados da coluna B da guia original\n",
    "        selecionar_nova_planilha[celula_colunaC] = guia_selecionada['C%s' % linha].value#Indexa os dados da coluna C da guia original\n",
    "        \n",
    "        #--------------------------------\n",
    "        #Aplicando configurações gráficas\n",
    "        \n",
    "        selecionar_nova_planilha[celula_colunaA].fill = celulaAmarela\n",
    "        selecionar_nova_planilha[celula_colunaB].fill = celulaAmarela\n",
    "        selecionar_nova_planilha[celula_colunaC].fill = celulaAmarela\n",
    "        #--------------------------------\n",
    "        \n",
    "        criar_nova_planilha.save(filename=caminho_nova_planilha)\n",
    "        \n",
    "        \n",
    "    else:\n",
    "        \n",
    "        nome_novo = guia_selecionada['A%s' % linha].value\n",
    "        \n",
    "        nova_planilha = criar_novo_arquivo.active\n",
    "        nova_planilha.title = \"NovaGuia\"\n",
    "        \n",
    "        #Determina o caminho da nova planilha\n",
    "        caminho_nova_planilha = \"C:\\\\Users\\\\PC\\\\Downloads\\\\algorithm-quickstart\\\\jupyter\\\\scripts\\\\\" + guia_selecionada['A%s' % linha].value + \".xlsx\"\n",
    "        selecionar_nova_planilha = criar_novo_arquivo['NovaGuia']\n",
    "        \n",
    "        \n",
    "        selecionar_nova_planilha['A1'] = \"Título 1\"#Cria um titulo para a nova guia\n",
    "        selecionar_nova_planilha['B1'] = \"Título 2\"#Cria outro titulo para a nova guia\n",
    "        selecionar_nova_planilha['C1'] = \"Título 3\"#Cria um último título para a nova guia\n",
    "        \n",
    "        selecionar_nova_planilha['A2'] = guia_selecionada['A%s' % linha].value#Indexa os dados unitários da coluna A da outra guia na nova\n",
    "        selecionar_nova_planilha['B2'] = guia_selecionada['B%s' % linha].value#Indexa os dados unitários da coluna B da outra guia na nova\n",
    "        selecionar_nova_planilha['C2'] = guia_selecionada['C%s' % linha].value#Indexa os dados unitários da coluna C da outra guia na nova\n",
    "        \n",
    "        #----------------------------------\n",
    "        #Configurando o tamanho das colunas\n",
    "        \n",
    "        selecionar_nova_planilha.column_dimensions[\"A\"].width = 18\n",
    "        selecionar_nova_planilha.column_dimensions[\"B\"].width = 25\n",
    "        selecionar_nova_planilha.column_dimensions[\"C\"].width = 15\n",
    "        #----------------------------------\n",
    "        \n",
    "        selecionar_nova_planilha.delete_rows(3, 100)#Deleta as linhas a partir da 3ª ate a 100ª\n",
    "        criar_nova_planilha.save(filename=caminho_nova_planilha)"
   ]
  }
 ],
 "metadata": {
  "kernelspec": {
   "display_name": "Python 3 (ipykernel)",
   "language": "python",
   "name": "python3"
  },
  "language_info": {
   "codemirror_mode": {
    "name": "ipython",
    "version": 3
   },
   "file_extension": ".py",
   "mimetype": "text/x-python",
   "name": "python",
   "nbconvert_exporter": "python",
   "pygments_lexer": "ipython3",
   "version": "3.9.7"
  }
 },
 "nbformat": 4,
 "nbformat_minor": 5
}
