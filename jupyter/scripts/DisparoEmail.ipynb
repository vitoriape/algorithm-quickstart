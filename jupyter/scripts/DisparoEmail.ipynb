{
 "cells": [
  {
   "cell_type": "code",
   "execution_count": null,
   "id": "7ed7dd21-81d6-4994-937c-31d933c5cb68",
   "metadata": {},
   "outputs": [],
   "source": [
    "import win32com.client as win32\n",
    "\n",
    "from openpyxl import load_workbook\n",
    "import os"
   ]
  },
  {
   "cell_type": "code",
   "execution_count": null,
   "id": "9907f4b0-d284-4ad7-bc45-de817f99166a",
   "metadata": {},
   "outputs": [],
   "source": [
    "criar_email = win32.Dispatch('outlook.application')\n",
    "email_outlook = criar_email.createItem(0)\n",
    "\n",
    "caminho_arquivo = 'C:\\\\Users\\\\PC\\\\CaminhoPasta\\\\ListaEmail.xlsx'\n",
    "planilha_emails = load_workbook(filename=caminho_arquivo)\n",
    "\n",
    "ListaEmail_guiaDados = planilha_emails['Dados']\n",
    "\n",
    "#Para arranjo manual do range até a linha 1000, por exemplo:\n",
    "#for linha in range(2, 1000):\n",
    "#len(ListaEmail_guiaDados['A']) + 1 = 1000\n",
    "\n",
    "for linha in range(2, len(ListaEmail_guiaDados['A']) + 1):\n",
    "    nome_colaborador = ListaEmail_guiaDados['A%s' % linha].value\n",
    "    nome_completo = ListaEmail_guiaDados['B%s' % linha].value\n",
    "    email_colaborador = ListaEmail_guiaDados['C%s' % linha].value\n",
    "\n",
    "    #Criação do e-mail\n",
    "   \n",
    "    email_outlook.To = email_colaborador#Destinatário\n",
    "    email_outlook.Subject = \"Relatório X: \" + nome_completo#Assunto\n",
    "\n",
    "    #Corpo do e-mail\n",
    "    email_outlook.HTMLBody = f\"\"\"\n",
    "    <p>Prezado(a), {nome_colaborador}</p>\n",
    "    <p>Segue em anexo o relatório referente a X.</p>\n",
    "    <p>Att,</p>\n",
    "    <p>Administração</p>\n",
    "    \"\"\"\n",
    "    \n",
    "    #Anexando planilha\n",
    "    planilha_anexo = 'C:\\\\Users\\\\PC\\\\CaminhoPasta\\\\' + nome_completo + '.xlsx'\n",
    "    email_outlook.Attachments.Add(planilha_anexo)\n",
    "    \n",
    "    email_outlook.Send()#Enviar e-mail"
   ]
  }
 ],
 "metadata": {
  "kernelspec": {
   "display_name": "Python 3 (ipykernel)",
   "language": "python",
   "name": "python3"
  },
  "language_info": {
   "codemirror_mode": {
    "name": "ipython",
    "version": 3
   },
   "file_extension": ".py",
   "mimetype": "text/x-python",
   "name": "python",
   "nbconvert_exporter": "python",
   "pygments_lexer": "ipython3",
   "version": "3.9.7"
  }
 },
 "nbformat": 4,
 "nbformat_minor": 5
}
