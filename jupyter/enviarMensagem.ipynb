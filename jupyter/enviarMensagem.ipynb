{
 "cells": [
  {
   "cell_type": "code",
   "execution_count": 11,
   "id": "7708db62",
   "metadata": {
    "scrolled": true
   },
   "outputs": [],
   "source": [
    "import pyautogui as openBrowser\n",
    "import pyautogui as sendMessage\n",
    "\n",
    "openBrowser.moveTo(x=26, y=103)\n",
    "openBrowser.click(x=26, y=103)\n",
    "openBrowser.sleep(3)\n",
    "openBrowser.typewrite('start brave')\n",
    "openBrowser.sleep(3)\n",
    "openBrowser.press('enter')\n",
    "openBrowser.sleep(4)\n",
    "\n",
    "sendMessage.typewrite('https://web.whatsapp.com/')\n",
    "sendMessage.press('enter')\n",
    "sendMessage.sleep(6)\n",
    "sendMessage.press('tab')\n",
    "sendMessage.typewrite('Usuário')\n",
    "sendMessage.press('enter')\n",
    "sendMessage.sleep(2)\n",
    "sendMessage.typewrite('Mensagem')\n",
    "sendMessage.press('enter')"
   ]
  }
 ],
 "metadata": {
  "kernelspec": {
   "display_name": "Python 3 (ipykernel)",
   "language": "python",
   "name": "python3"
  },
  "language_info": {
   "codemirror_mode": {
    "name": "ipython",
    "version": 3
   },
   "file_extension": ".py",
   "mimetype": "text/x-python",
   "name": "python",
   "nbconvert_exporter": "python",
   "pygments_lexer": "ipython3",
   "version": "3.9.7"
  }
 },
 "nbformat": 4,
 "nbformat_minor": 5
}
