{
 "cells": [
  {
   "cell_type": "code",
   "execution_count": null,
   "id": "b98e373b",
   "metadata": {},
   "outputs": [],
   "source": [
    "import pyautogui\n",
    "\n",
    "\n",
    "userChoice = pyautogui.confirm('Menu', buttons = ['Opção 1', 'Opção 2'])\n",
    "\n",
    "if userChoice == 'Opção 1':\n",
    "    \n",
    "    #script\n",
    "    \n",
    "elif userChoice == 'Opção 2':\n",
    "    \n",
    "    #script"
   ]
  }
 ],
 "metadata": {
  "kernelspec": {
   "display_name": "Python 3 (ipykernel)",
   "language": "python",
   "name": "python3"
  },
  "language_info": {
   "codemirror_mode": {
    "name": "ipython",
    "version": 3
   },
   "file_extension": ".py",
   "mimetype": "text/x-python",
   "name": "python",
   "nbconvert_exporter": "python",
   "pygments_lexer": "ipython3",
   "version": "3.9.7"
  }
 },
 "nbformat": 4,
 "nbformat_minor": 5
}
