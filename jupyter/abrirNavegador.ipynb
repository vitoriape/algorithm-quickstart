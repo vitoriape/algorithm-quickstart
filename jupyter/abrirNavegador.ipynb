{
 "cells": [
  {
   "cell_type": "code",
   "execution_count": null,
   "id": "b4c117c3",
   "metadata": {},
   "outputs": [],
   "source": [
    "import pyautogui\n",
    "import pyautogui as runEdge\n",
    "from selenium import webdriver\n",
    "\n",
    "runEdge = webdriver.Edge()\n",
    "runEdge.get('https://github.com/vitoriape/algorithm-quickstart')"
   ]
  }
 ],
 "metadata": {
  "kernelspec": {
   "display_name": "Python 3 (ipykernel)",
   "language": "python",
   "name": "python3"
  },
  "language_info": {
   "codemirror_mode": {
    "name": "ipython",
    "version": 3
   },
   "file_extension": ".py",
   "mimetype": "text/x-python",
   "name": "python",
   "nbconvert_exporter": "python",
   "pygments_lexer": "ipython3",
   "version": "3.9.7"
  }
 },
 "nbformat": 4,
 "nbformat_minor": 5
}
