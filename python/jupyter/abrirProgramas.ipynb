{
 "cells": [
  {
   "cell_type": "code",
   "execution_count": 4,
   "id": "0e6685a2-960d-472e-9e49-ca9a23d46fdf",
   "metadata": {},
   "outputs": [],
   "source": [
    "import pyautogui\n",
    "import pyautogui as runCmd\n",
    "\n",
    "runCmd.hotkey('win', 'r')#Executa o atalho Win + 2, abrindo o prompt de comando\n",
    "runCmd.sleep(2)#Aguarda dois segundos\n",
    "runCmd.typewrite('cmd')#Digita o nome de arquivo do prompt de comando\n",
    "runCmd.press('enter')#Executa a tecla enter"
   ]
  }
 ],
 "metadata": {
  "kernelspec": {
   "display_name": "Python 3 (ipykernel)",
   "language": "python",
   "name": "python3"
  },
  "language_info": {
   "codemirror_mode": {
    "name": "ipython",
    "version": 3
   },
   "file_extension": ".py",
   "mimetype": "text/x-python",
   "name": "python",
   "nbconvert_exporter": "python",
   "pygments_lexer": "ipython3",
   "version": "3.9.7"
  }
 },
 "nbformat": 4,
 "nbformat_minor": 5
}
